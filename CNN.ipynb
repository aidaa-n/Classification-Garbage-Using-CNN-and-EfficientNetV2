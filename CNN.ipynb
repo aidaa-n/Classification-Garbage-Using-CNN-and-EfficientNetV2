{
  "nbformat": 4,
  "nbformat_minor": 0,
  "metadata": {
    "colab": {
      "provenance": [],
      "gpuType": "T4"
    },
    "kernelspec": {
      "name": "python3",
      "display_name": "Python 3"
    },
    "language_info": {
      "name": "python"
    },
    "accelerator": "GPU"
  },
  "cells": [
    {
      "cell_type": "markdown",
      "source": [
        "Klasifikasi Sampah\n",
        "\n",
        "1. Nathanael Jeshua Paat\n",
        "2. Aida Nurrohmah\n",
        "3. Isni Agustina Arifin"
      ],
      "metadata": {
        "id": "UwxbbcjN1PfW"
      }
    },
    {
      "cell_type": "markdown",
      "source": [
        "Import Library"
      ],
      "metadata": {
        "id": "0uR9Hp4G1fdI"
      }
    },
    {
      "cell_type": "code",
      "execution_count": 1,
      "metadata": {
        "colab": {
          "base_uri": "https://localhost:8080/"
        },
        "id": "HU19gMal1MK6",
        "outputId": "1b70810d-65eb-45e9-e74c-0cf12b2bfb73"
      },
      "outputs": [
        {
          "output_type": "stream",
          "name": "stdout",
          "text": [
            "Collecting keras\n",
            "  Downloading keras-3.0.0-py3-none-any.whl (997 kB)\n",
            "\u001b[2K     \u001b[90m━━━━━━━━━━━━━━━━━━━━━━━━━━━━━━━━━━━━━━━━\u001b[0m \u001b[32m997.1/997.1 kB\u001b[0m \u001b[31m9.3 MB/s\u001b[0m eta \u001b[36m0:00:00\u001b[0m\n",
            "\u001b[?25hCollecting absl-py (from keras)\n",
            "  Downloading absl_py-2.0.0-py3-none-any.whl (130 kB)\n",
            "\u001b[2K     \u001b[90m━━━━━━━━━━━━━━━━━━━━━━━━━━━━━━━━━━━━━━━━\u001b[0m \u001b[32m130.2/130.2 kB\u001b[0m \u001b[31m9.4 MB/s\u001b[0m eta \u001b[36m0:00:00\u001b[0m\n",
            "\u001b[?25hCollecting numpy (from keras)\n",
            "  Downloading numpy-1.26.2-cp310-cp310-manylinux_2_17_x86_64.manylinux2014_x86_64.whl (18.2 MB)\n",
            "\u001b[2K     \u001b[90m━━━━━━━━━━━━━━━━━━━━━━━━━━━━━━━━━━━━━━━━\u001b[0m \u001b[32m18.2/18.2 MB\u001b[0m \u001b[31m65.0 MB/s\u001b[0m eta \u001b[36m0:00:00\u001b[0m\n",
            "\u001b[?25hCollecting rich (from keras)\n",
            "  Downloading rich-13.7.0-py3-none-any.whl (240 kB)\n",
            "\u001b[2K     \u001b[90m━━━━━━━━━━━━━━━━━━━━━━━━━━━━━━━━━━━━━━━━\u001b[0m \u001b[32m240.6/240.6 kB\u001b[0m \u001b[31m29.2 MB/s\u001b[0m eta \u001b[36m0:00:00\u001b[0m\n",
            "\u001b[?25hCollecting namex (from keras)\n",
            "  Downloading namex-0.0.7-py3-none-any.whl (5.8 kB)\n",
            "Collecting h5py (from keras)\n",
            "  Downloading h5py-3.10.0-cp310-cp310-manylinux_2_17_x86_64.manylinux2014_x86_64.whl (4.8 MB)\n",
            "\u001b[2K     \u001b[90m━━━━━━━━━━━━━━━━━━━━━━━━━━━━━━━━━━━━━━━━\u001b[0m \u001b[32m4.8/4.8 MB\u001b[0m \u001b[31m97.2 MB/s\u001b[0m eta \u001b[36m0:00:00\u001b[0m\n",
            "\u001b[?25hCollecting dm-tree (from keras)\n",
            "  Downloading dm_tree-0.1.8-cp310-cp310-manylinux_2_17_x86_64.manylinux2014_x86_64.whl (152 kB)\n",
            "\u001b[2K     \u001b[90m━━━━━━━━━━━━━━━━━━━━━━━━━━━━━━━━━━━━━━━━\u001b[0m \u001b[32m152.8/152.8 kB\u001b[0m \u001b[31m20.4 MB/s\u001b[0m eta \u001b[36m0:00:00\u001b[0m\n",
            "\u001b[?25hCollecting markdown-it-py>=2.2.0 (from rich->keras)\n",
            "  Downloading markdown_it_py-3.0.0-py3-none-any.whl (87 kB)\n",
            "\u001b[2K     \u001b[90m━━━━━━━━━━━━━━━━━━━━━━━━━━━━━━━━━━━━━━━━\u001b[0m \u001b[32m87.5/87.5 kB\u001b[0m \u001b[31m12.1 MB/s\u001b[0m eta \u001b[36m0:00:00\u001b[0m\n",
            "\u001b[?25hCollecting pygments<3.0.0,>=2.13.0 (from rich->keras)\n",
            "  Downloading pygments-2.17.2-py3-none-any.whl (1.2 MB)\n",
            "\u001b[2K     \u001b[90m━━━━━━━━━━━━━━━━━━━━━━━━━━━━━━━━━━━━━━━━\u001b[0m \u001b[32m1.2/1.2 MB\u001b[0m \u001b[31m84.5 MB/s\u001b[0m eta \u001b[36m0:00:00\u001b[0m\n",
            "\u001b[?25hCollecting mdurl~=0.1 (from markdown-it-py>=2.2.0->rich->keras)\n",
            "  Downloading mdurl-0.1.2-py3-none-any.whl (10.0 kB)\n",
            "Installing collected packages: namex, dm-tree, pygments, numpy, mdurl, absl-py, markdown-it-py, h5py, rich, keras\n",
            "\u001b[31mERROR: pip's dependency resolver does not currently take into account all the packages that are installed. This behaviour is the source of the following dependency conflicts.\n",
            "ipython 7.34.0 requires jedi>=0.16, which is not installed.\n",
            "lida 0.0.10 requires fastapi, which is not installed.\n",
            "lida 0.0.10 requires kaleido, which is not installed.\n",
            "lida 0.0.10 requires python-multipart, which is not installed.\n",
            "lida 0.0.10 requires uvicorn, which is not installed.\n",
            "cupy-cuda11x 11.0.0 requires numpy<1.26,>=1.20, but you have numpy 1.26.2 which is incompatible.\n",
            "tensorflow 2.14.0 requires keras<2.15,>=2.14.0, but you have keras 3.0.0 which is incompatible.\n",
            "tensorflow-metadata 1.14.0 requires absl-py<2.0.0,>=0.9, but you have absl-py 2.0.0 which is incompatible.\u001b[0m\u001b[31m\n",
            "\u001b[0mSuccessfully installed absl-py-2.0.0 dm-tree-0.1.8 h5py-3.10.0 keras-3.0.0 markdown-it-py-3.0.0 mdurl-0.1.2 namex-0.0.7 numpy-1.26.2 pygments-2.17.2 rich-13.7.0\n"
          ]
        }
      ],
      "source": [
        "!pip install keras -tuner"
      ]
    },
    {
      "cell_type": "code",
      "source": [
        "!pip install keras_tuner"
      ],
      "metadata": {
        "colab": {
          "base_uri": "https://localhost:8080/"
        },
        "id": "m19PImr3163V",
        "outputId": "28e936c8-5c8a-4dd4-aab4-43555447ad59"
      },
      "execution_count": 2,
      "outputs": [
        {
          "output_type": "stream",
          "name": "stdout",
          "text": [
            "Collecting keras_tuner\n",
            "  Downloading keras_tuner-1.4.6-py3-none-any.whl (128 kB)\n",
            "\u001b[2K     \u001b[90m━━━━━━━━━━━━━━━━━━━━━━━━━━━━━━━━━━━━━━━━\u001b[0m \u001b[32m128.9/128.9 kB\u001b[0m \u001b[31m1.8 MB/s\u001b[0m eta \u001b[36m0:00:00\u001b[0m\n",
            "\u001b[?25hRequirement already satisfied: keras in /usr/local/lib/python3.10/dist-packages (from keras_tuner) (2.14.0)\n",
            "Requirement already satisfied: packaging in /usr/local/lib/python3.10/dist-packages (from keras_tuner) (23.2)\n",
            "Requirement already satisfied: requests in /usr/local/lib/python3.10/dist-packages (from keras_tuner) (2.31.0)\n",
            "Collecting kt-legacy (from keras_tuner)\n",
            "  Downloading kt_legacy-1.0.5-py3-none-any.whl (9.6 kB)\n",
            "Requirement already satisfied: charset-normalizer<4,>=2 in /usr/local/lib/python3.10/dist-packages (from requests->keras_tuner) (3.3.2)\n",
            "Requirement already satisfied: idna<4,>=2.5 in /usr/local/lib/python3.10/dist-packages (from requests->keras_tuner) (3.6)\n",
            "Requirement already satisfied: urllib3<3,>=1.21.1 in /usr/local/lib/python3.10/dist-packages (from requests->keras_tuner) (2.0.7)\n",
            "Requirement already satisfied: certifi>=2017.4.17 in /usr/local/lib/python3.10/dist-packages (from requests->keras_tuner) (2023.11.17)\n",
            "Installing collected packages: kt-legacy, keras_tuner\n",
            "Successfully installed keras_tuner-1.4.6 kt-legacy-1.0.5\n"
          ]
        }
      ]
    },
    {
      "cell_type": "code",
      "source": [
        "import cv2\n",
        "import datetime\n",
        "import os\n",
        "import numpy as np\n",
        "import pandas as pd\n",
        "import tensorflow as tf\n",
        "import matplotlib.pyplot as plt\n",
        "import seaborn as sns\n",
        "\n",
        "from sklearn.utils import shuffle\n",
        "from sklearn.model_selection import train_test_split\n",
        "from sklearn.metrics import classification_report, confusion_matrix, accuracy_score, recall_score\n",
        "\n",
        "from tensorflow.keras import backend as K\n",
        "from tensorflow.keras import layers\n",
        "from tensorflow.keras import Model, Sequential\n",
        "from tensorflow.keras.utils import plot_model\n",
        "from tensorflow.keras.callbacks import ReduceLROnPlateau, ModelCheckpoint, EarlyStopping\n",
        "from tensorflow.keras.preprocessing.image import ImageDataGenerator\n",
        "\n",
        "#utility & processing\n",
        "from tensorflow.keras import utils\n",
        "from tensorflow.keras.utils import to_categorical\n",
        "from sklearn.model_selection import train_test_split\n",
        "from tensorflow.keras import regularizers\n",
        "\n",
        "\n",
        "#cnn architecture\n",
        "from tensorflow.keras.layers import Dense, Conv2D, MaxPooling2D, Flatten\n",
        "from tensorflow.keras.models import Sequential\n",
        "\n",
        "#callbacks\n",
        "from tensorflow.keras.callbacks import ModelCheckpoint, EarlyStopping\n",
        "\n",
        "#data augmentation\n",
        "from tensorflow.keras.preprocessing.image import ImageDataGenerator\n",
        "\n",
        "#keras tuner\n",
        "import keras_tuner\n",
        "from keras_tuner import RandomSearch\n",
        "from keras_tuner.engine.hyperparameters import HyperParameters\n",
        "\n",
        "#warnings\n",
        "import warnings\n",
        "warnings.filterwarnings('ignore')"
      ],
      "metadata": {
        "id": "1EZIku2w2CXq"
      },
      "execution_count": 3,
      "outputs": []
    },
    {
      "cell_type": "code",
      "source": [
        "!pip install tensorflow-addons\n",
        "import tensorflow_addons as tfa"
      ],
      "metadata": {
        "colab": {
          "base_uri": "https://localhost:8080/"
        },
        "id": "GQv_GLie2WJP",
        "outputId": "8cbe4f76-c9ca-4266-c696-88c2e55b809c"
      },
      "execution_count": 4,
      "outputs": [
        {
          "output_type": "stream",
          "name": "stdout",
          "text": [
            "Collecting tensorflow-addons\n",
            "  Downloading tensorflow_addons-0.23.0-cp310-cp310-manylinux_2_17_x86_64.manylinux2014_x86_64.whl (611 kB)\n",
            "\u001b[2K     \u001b[90m━━━━━━━━━━━━━━━━━━━━━━━━━━━━━━━━━━━━━━━━\u001b[0m \u001b[32m611.8/611.8 kB\u001b[0m \u001b[31m5.7 MB/s\u001b[0m eta \u001b[36m0:00:00\u001b[0m\n",
            "\u001b[?25hRequirement already satisfied: packaging in /usr/local/lib/python3.10/dist-packages (from tensorflow-addons) (23.2)\n",
            "Collecting typeguard<3.0.0,>=2.7 (from tensorflow-addons)\n",
            "  Downloading typeguard-2.13.3-py3-none-any.whl (17 kB)\n",
            "Installing collected packages: typeguard, tensorflow-addons\n",
            "Successfully installed tensorflow-addons-0.23.0 typeguard-2.13.3\n"
          ]
        }
      ]
    },
    {
      "cell_type": "markdown",
      "source": [
        "Download dan Unzip Dataset"
      ],
      "metadata": {
        "id": "MLMD1rBr2hxs"
      }
    },
    {
      "cell_type": "code",
      "source": [
        "# https://drive.google.com/file/d/150855rVh-srkGhdywBsPK4_mHSZCwRWg/view?usp=sharing\n",
        "!gdown 150855rVh-srkGhdywBsPK4_mHSZCwRWg"
      ],
      "metadata": {
        "colab": {
          "base_uri": "https://localhost:8080/"
        },
        "id": "B9mYQSSn2bj-",
        "outputId": "edffa649-4277-484d-99ad-775e33347308"
      },
      "execution_count": 5,
      "outputs": [
        {
          "output_type": "stream",
          "name": "stdout",
          "text": [
            "Downloading...\n",
            "From: https://drive.google.com/uc?id=150855rVh-srkGhdywBsPK4_mHSZCwRWg\n",
            "To: /content/Dataset.zip\n",
            "100% 40.9M/40.9M [00:01<00:00, 33.4MB/s]\n"
          ]
        }
      ]
    },
    {
      "cell_type": "code",
      "source": [
        "%%capture\n",
        "!unzip Dataset.zip;"
      ],
      "metadata": {
        "id": "R4gs6hKv24yv"
      },
      "execution_count": 6,
      "outputs": []
    },
    {
      "cell_type": "code",
      "source": [
        "BATCH_SIZE = 64\n",
        "EPOCHS = 50\n",
        "IM_HEIGHT = 300\n",
        "IM_WIDTH = 300\n",
        "\n",
        "AUTOTUNE = tf.data.experimental.AUTOTUNE\n",
        "\n",
        "tf.random.set_seed(10)"
      ],
      "metadata": {
        "id": "B4DBhbut3ERn"
      },
      "execution_count": 7,
      "outputs": []
    },
    {
      "cell_type": "code",
      "source": [
        "from google.colab import drive\n",
        "drive.mount('/content/drive')"
      ],
      "metadata": {
        "colab": {
          "base_uri": "https://localhost:8080/"
        },
        "id": "IDJgkcFH4IpC",
        "outputId": "b71ef4d2-8171-4230-b996-ddf3176eb92f"
      },
      "execution_count": 8,
      "outputs": [
        {
          "output_type": "stream",
          "name": "stdout",
          "text": [
            "Mounted at /content/drive\n"
          ]
        }
      ]
    },
    {
      "cell_type": "code",
      "source": [
        "for dirname, _, filenames in os.walk('/content/Garbage classification'):\n",
        "    print(dirname)"
      ],
      "metadata": {
        "id": "ge_ixJHj4dSS",
        "colab": {
          "base_uri": "https://localhost:8080/"
        },
        "outputId": "7a99d853-d41f-4a21-b0a5-f0f1cd53aa53"
      },
      "execution_count": 9,
      "outputs": [
        {
          "output_type": "stream",
          "name": "stdout",
          "text": [
            "/content/Garbage classification\n",
            "/content/Garbage classification/cardboard\n",
            "/content/Garbage classification/paper\n",
            "/content/Garbage classification/metal\n",
            "/content/Garbage classification/glass\n",
            "/content/Garbage classification/plastic\n"
          ]
        }
      ]
    },
    {
      "cell_type": "code",
      "source": [
        "filenames = tf.io.gfile.glob('/content/Garbage classification/*/*')\n",
        "print(len(filenames))\n",
        "filenames[:3]"
      ],
      "metadata": {
        "colab": {
          "base_uri": "https://localhost:8080/"
        },
        "id": "_zrGYDm-7Z94",
        "outputId": "06959235-5fbd-4183-c876-3681382d4f00"
      },
      "execution_count": 10,
      "outputs": [
        {
          "output_type": "stream",
          "name": "stdout",
          "text": [
            "2390\n"
          ]
        },
        {
          "output_type": "execute_result",
          "data": {
            "text/plain": [
              "['/content/Garbage classification/paper/paper398.jpg',\n",
              " '/content/Garbage classification/paper/paper229.jpg',\n",
              " '/content/Garbage classification/paper/paper442.jpg']"
            ]
          },
          "metadata": {},
          "execution_count": 10
        }
      ]
    },
    {
      "cell_type": "code",
      "source": [
        "data = pd.DataFrame()\n",
        "for el in range(0, len(filenames)):\n",
        "    target = filenames[el].split('/')[-2]\n",
        "    path = filenames[el]\n",
        "\n",
        "    data.loc[el, 'filename'] = path\n",
        "    data.loc[el, 'class'] = target\n",
        "\n",
        "print(data['class'].value_counts(dropna=False))\n",
        "data"
      ],
      "metadata": {
        "colab": {
          "base_uri": "https://localhost:8080/",
          "height": 528
        },
        "id": "qRoC_07L7hT5",
        "outputId": "d392c9e0-4fa5-4c13-d95b-1931eaa0c553"
      },
      "execution_count": 11,
      "outputs": [
        {
          "output_type": "stream",
          "name": "stdout",
          "text": [
            "paper        594\n",
            "glass        501\n",
            "plastic      482\n",
            "metal        410\n",
            "cardboard    403\n",
            "Name: class, dtype: int64\n"
          ]
        },
        {
          "output_type": "execute_result",
          "data": {
            "text/plain": [
              "                                               filename    class\n",
              "0     /content/Garbage classification/paper/paper398...    paper\n",
              "1     /content/Garbage classification/paper/paper229...    paper\n",
              "2     /content/Garbage classification/paper/paper442...    paper\n",
              "3     /content/Garbage classification/paper/paper207...    paper\n",
              "4     /content/Garbage classification/paper/paper577...    paper\n",
              "...                                                 ...      ...\n",
              "2385  /content/Garbage classification/plastic/plasti...  plastic\n",
              "2386  /content/Garbage classification/plastic/plasti...  plastic\n",
              "2387  /content/Garbage classification/plastic/plasti...  plastic\n",
              "2388  /content/Garbage classification/plastic/plasti...  plastic\n",
              "2389  /content/Garbage classification/plastic/plasti...  plastic\n",
              "\n",
              "[2390 rows x 2 columns]"
            ],
            "text/html": [
              "\n",
              "  <div id=\"df-ca3295b4-24de-4222-9b06-7ecbb6c39509\" class=\"colab-df-container\">\n",
              "    <div>\n",
              "<style scoped>\n",
              "    .dataframe tbody tr th:only-of-type {\n",
              "        vertical-align: middle;\n",
              "    }\n",
              "\n",
              "    .dataframe tbody tr th {\n",
              "        vertical-align: top;\n",
              "    }\n",
              "\n",
              "    .dataframe thead th {\n",
              "        text-align: right;\n",
              "    }\n",
              "</style>\n",
              "<table border=\"1\" class=\"dataframe\">\n",
              "  <thead>\n",
              "    <tr style=\"text-align: right;\">\n",
              "      <th></th>\n",
              "      <th>filename</th>\n",
              "      <th>class</th>\n",
              "    </tr>\n",
              "  </thead>\n",
              "  <tbody>\n",
              "    <tr>\n",
              "      <th>0</th>\n",
              "      <td>/content/Garbage classification/paper/paper398...</td>\n",
              "      <td>paper</td>\n",
              "    </tr>\n",
              "    <tr>\n",
              "      <th>1</th>\n",
              "      <td>/content/Garbage classification/paper/paper229...</td>\n",
              "      <td>paper</td>\n",
              "    </tr>\n",
              "    <tr>\n",
              "      <th>2</th>\n",
              "      <td>/content/Garbage classification/paper/paper442...</td>\n",
              "      <td>paper</td>\n",
              "    </tr>\n",
              "    <tr>\n",
              "      <th>3</th>\n",
              "      <td>/content/Garbage classification/paper/paper207...</td>\n",
              "      <td>paper</td>\n",
              "    </tr>\n",
              "    <tr>\n",
              "      <th>4</th>\n",
              "      <td>/content/Garbage classification/paper/paper577...</td>\n",
              "      <td>paper</td>\n",
              "    </tr>\n",
              "    <tr>\n",
              "      <th>...</th>\n",
              "      <td>...</td>\n",
              "      <td>...</td>\n",
              "    </tr>\n",
              "    <tr>\n",
              "      <th>2385</th>\n",
              "      <td>/content/Garbage classification/plastic/plasti...</td>\n",
              "      <td>plastic</td>\n",
              "    </tr>\n",
              "    <tr>\n",
              "      <th>2386</th>\n",
              "      <td>/content/Garbage classification/plastic/plasti...</td>\n",
              "      <td>plastic</td>\n",
              "    </tr>\n",
              "    <tr>\n",
              "      <th>2387</th>\n",
              "      <td>/content/Garbage classification/plastic/plasti...</td>\n",
              "      <td>plastic</td>\n",
              "    </tr>\n",
              "    <tr>\n",
              "      <th>2388</th>\n",
              "      <td>/content/Garbage classification/plastic/plasti...</td>\n",
              "      <td>plastic</td>\n",
              "    </tr>\n",
              "    <tr>\n",
              "      <th>2389</th>\n",
              "      <td>/content/Garbage classification/plastic/plasti...</td>\n",
              "      <td>plastic</td>\n",
              "    </tr>\n",
              "  </tbody>\n",
              "</table>\n",
              "<p>2390 rows × 2 columns</p>\n",
              "</div>\n",
              "    <div class=\"colab-df-buttons\">\n",
              "\n",
              "  <div class=\"colab-df-container\">\n",
              "    <button class=\"colab-df-convert\" onclick=\"convertToInteractive('df-ca3295b4-24de-4222-9b06-7ecbb6c39509')\"\n",
              "            title=\"Convert this dataframe to an interactive table.\"\n",
              "            style=\"display:none;\">\n",
              "\n",
              "  <svg xmlns=\"http://www.w3.org/2000/svg\" height=\"24px\" viewBox=\"0 -960 960 960\">\n",
              "    <path d=\"M120-120v-720h720v720H120Zm60-500h600v-160H180v160Zm220 220h160v-160H400v160Zm0 220h160v-160H400v160ZM180-400h160v-160H180v160Zm440 0h160v-160H620v160ZM180-180h160v-160H180v160Zm440 0h160v-160H620v160Z\"/>\n",
              "  </svg>\n",
              "    </button>\n",
              "\n",
              "  <style>\n",
              "    .colab-df-container {\n",
              "      display:flex;\n",
              "      gap: 12px;\n",
              "    }\n",
              "\n",
              "    .colab-df-convert {\n",
              "      background-color: #E8F0FE;\n",
              "      border: none;\n",
              "      border-radius: 50%;\n",
              "      cursor: pointer;\n",
              "      display: none;\n",
              "      fill: #1967D2;\n",
              "      height: 32px;\n",
              "      padding: 0 0 0 0;\n",
              "      width: 32px;\n",
              "    }\n",
              "\n",
              "    .colab-df-convert:hover {\n",
              "      background-color: #E2EBFA;\n",
              "      box-shadow: 0px 1px 2px rgba(60, 64, 67, 0.3), 0px 1px 3px 1px rgba(60, 64, 67, 0.15);\n",
              "      fill: #174EA6;\n",
              "    }\n",
              "\n",
              "    .colab-df-buttons div {\n",
              "      margin-bottom: 4px;\n",
              "    }\n",
              "\n",
              "    [theme=dark] .colab-df-convert {\n",
              "      background-color: #3B4455;\n",
              "      fill: #D2E3FC;\n",
              "    }\n",
              "\n",
              "    [theme=dark] .colab-df-convert:hover {\n",
              "      background-color: #434B5C;\n",
              "      box-shadow: 0px 1px 3px 1px rgba(0, 0, 0, 0.15);\n",
              "      filter: drop-shadow(0px 1px 2px rgba(0, 0, 0, 0.3));\n",
              "      fill: #FFFFFF;\n",
              "    }\n",
              "  </style>\n",
              "\n",
              "    <script>\n",
              "      const buttonEl =\n",
              "        document.querySelector('#df-ca3295b4-24de-4222-9b06-7ecbb6c39509 button.colab-df-convert');\n",
              "      buttonEl.style.display =\n",
              "        google.colab.kernel.accessAllowed ? 'block' : 'none';\n",
              "\n",
              "      async function convertToInteractive(key) {\n",
              "        const element = document.querySelector('#df-ca3295b4-24de-4222-9b06-7ecbb6c39509');\n",
              "        const dataTable =\n",
              "          await google.colab.kernel.invokeFunction('convertToInteractive',\n",
              "                                                    [key], {});\n",
              "        if (!dataTable) return;\n",
              "\n",
              "        const docLinkHtml = 'Like what you see? Visit the ' +\n",
              "          '<a target=\"_blank\" href=https://colab.research.google.com/notebooks/data_table.ipynb>data table notebook</a>'\n",
              "          + ' to learn more about interactive tables.';\n",
              "        element.innerHTML = '';\n",
              "        dataTable['output_type'] = 'display_data';\n",
              "        await google.colab.output.renderOutput(dataTable, element);\n",
              "        const docLink = document.createElement('div');\n",
              "        docLink.innerHTML = docLinkHtml;\n",
              "        element.appendChild(docLink);\n",
              "      }\n",
              "    </script>\n",
              "  </div>\n",
              "\n",
              "\n",
              "<div id=\"df-3ef1eb13-7151-4860-932c-d8aca64e3439\">\n",
              "  <button class=\"colab-df-quickchart\" onclick=\"quickchart('df-3ef1eb13-7151-4860-932c-d8aca64e3439')\"\n",
              "            title=\"Suggest charts\"\n",
              "            style=\"display:none;\">\n",
              "\n",
              "<svg xmlns=\"http://www.w3.org/2000/svg\" height=\"24px\"viewBox=\"0 0 24 24\"\n",
              "     width=\"24px\">\n",
              "    <g>\n",
              "        <path d=\"M19 3H5c-1.1 0-2 .9-2 2v14c0 1.1.9 2 2 2h14c1.1 0 2-.9 2-2V5c0-1.1-.9-2-2-2zM9 17H7v-7h2v7zm4 0h-2V7h2v10zm4 0h-2v-4h2v4z\"/>\n",
              "    </g>\n",
              "</svg>\n",
              "  </button>\n",
              "\n",
              "<style>\n",
              "  .colab-df-quickchart {\n",
              "      --bg-color: #E8F0FE;\n",
              "      --fill-color: #1967D2;\n",
              "      --hover-bg-color: #E2EBFA;\n",
              "      --hover-fill-color: #174EA6;\n",
              "      --disabled-fill-color: #AAA;\n",
              "      --disabled-bg-color: #DDD;\n",
              "  }\n",
              "\n",
              "  [theme=dark] .colab-df-quickchart {\n",
              "      --bg-color: #3B4455;\n",
              "      --fill-color: #D2E3FC;\n",
              "      --hover-bg-color: #434B5C;\n",
              "      --hover-fill-color: #FFFFFF;\n",
              "      --disabled-bg-color: #3B4455;\n",
              "      --disabled-fill-color: #666;\n",
              "  }\n",
              "\n",
              "  .colab-df-quickchart {\n",
              "    background-color: var(--bg-color);\n",
              "    border: none;\n",
              "    border-radius: 50%;\n",
              "    cursor: pointer;\n",
              "    display: none;\n",
              "    fill: var(--fill-color);\n",
              "    height: 32px;\n",
              "    padding: 0;\n",
              "    width: 32px;\n",
              "  }\n",
              "\n",
              "  .colab-df-quickchart:hover {\n",
              "    background-color: var(--hover-bg-color);\n",
              "    box-shadow: 0 1px 2px rgba(60, 64, 67, 0.3), 0 1px 3px 1px rgba(60, 64, 67, 0.15);\n",
              "    fill: var(--button-hover-fill-color);\n",
              "  }\n",
              "\n",
              "  .colab-df-quickchart-complete:disabled,\n",
              "  .colab-df-quickchart-complete:disabled:hover {\n",
              "    background-color: var(--disabled-bg-color);\n",
              "    fill: var(--disabled-fill-color);\n",
              "    box-shadow: none;\n",
              "  }\n",
              "\n",
              "  .colab-df-spinner {\n",
              "    border: 2px solid var(--fill-color);\n",
              "    border-color: transparent;\n",
              "    border-bottom-color: var(--fill-color);\n",
              "    animation:\n",
              "      spin 1s steps(1) infinite;\n",
              "  }\n",
              "\n",
              "  @keyframes spin {\n",
              "    0% {\n",
              "      border-color: transparent;\n",
              "      border-bottom-color: var(--fill-color);\n",
              "      border-left-color: var(--fill-color);\n",
              "    }\n",
              "    20% {\n",
              "      border-color: transparent;\n",
              "      border-left-color: var(--fill-color);\n",
              "      border-top-color: var(--fill-color);\n",
              "    }\n",
              "    30% {\n",
              "      border-color: transparent;\n",
              "      border-left-color: var(--fill-color);\n",
              "      border-top-color: var(--fill-color);\n",
              "      border-right-color: var(--fill-color);\n",
              "    }\n",
              "    40% {\n",
              "      border-color: transparent;\n",
              "      border-right-color: var(--fill-color);\n",
              "      border-top-color: var(--fill-color);\n",
              "    }\n",
              "    60% {\n",
              "      border-color: transparent;\n",
              "      border-right-color: var(--fill-color);\n",
              "    }\n",
              "    80% {\n",
              "      border-color: transparent;\n",
              "      border-right-color: var(--fill-color);\n",
              "      border-bottom-color: var(--fill-color);\n",
              "    }\n",
              "    90% {\n",
              "      border-color: transparent;\n",
              "      border-bottom-color: var(--fill-color);\n",
              "    }\n",
              "  }\n",
              "</style>\n",
              "\n",
              "  <script>\n",
              "    async function quickchart(key) {\n",
              "      const quickchartButtonEl =\n",
              "        document.querySelector('#' + key + ' button');\n",
              "      quickchartButtonEl.disabled = true;  // To prevent multiple clicks.\n",
              "      quickchartButtonEl.classList.add('colab-df-spinner');\n",
              "      try {\n",
              "        const charts = await google.colab.kernel.invokeFunction(\n",
              "            'suggestCharts', [key], {});\n",
              "      } catch (error) {\n",
              "        console.error('Error during call to suggestCharts:', error);\n",
              "      }\n",
              "      quickchartButtonEl.classList.remove('colab-df-spinner');\n",
              "      quickchartButtonEl.classList.add('colab-df-quickchart-complete');\n",
              "    }\n",
              "    (() => {\n",
              "      let quickchartButtonEl =\n",
              "        document.querySelector('#df-3ef1eb13-7151-4860-932c-d8aca64e3439 button');\n",
              "      quickchartButtonEl.style.display =\n",
              "        google.colab.kernel.accessAllowed ? 'block' : 'none';\n",
              "    })();\n",
              "  </script>\n",
              "</div>\n",
              "    </div>\n",
              "  </div>\n"
            ]
          },
          "metadata": {},
          "execution_count": 11
        }
      ]
    },
    {
      "cell_type": "markdown",
      "source": [
        "Mengacak Data"
      ],
      "metadata": {
        "id": "Y9FEO3F79oqp"
      }
    },
    {
      "cell_type": "code",
      "source": [
        "data = shuffle(data, random_state=42)\n",
        "data.reset_index(drop=True, inplace=True)\n",
        "data"
      ],
      "metadata": {
        "colab": {
          "base_uri": "https://localhost:8080/",
          "height": 424
        },
        "id": "83V-80-w7uyc",
        "outputId": "d2bfc8dd-5490-4336-b63f-22e13e271cd2"
      },
      "execution_count": 12,
      "outputs": [
        {
          "output_type": "execute_result",
          "data": {
            "text/plain": [
              "                                               filename      class\n",
              "0     /content/Garbage classification/glass/glass233...      glass\n",
              "1     /content/Garbage classification/glass/glass158...      glass\n",
              "2     /content/Garbage classification/paper/paper576...      paper\n",
              "3     /content/Garbage classification/paper/paper126...      paper\n",
              "4     /content/Garbage classification/paper/paper194...      paper\n",
              "...                                                 ...        ...\n",
              "2385  /content/Garbage classification/metal/metal315...      metal\n",
              "2386  /content/Garbage classification/glass/glass387...      glass\n",
              "2387  /content/Garbage classification/glass/glass373...      glass\n",
              "2388  /content/Garbage classification/glass/glass76.jpg      glass\n",
              "2389  /content/Garbage classification/cardboard/card...  cardboard\n",
              "\n",
              "[2390 rows x 2 columns]"
            ],
            "text/html": [
              "\n",
              "  <div id=\"df-f3cb3b33-6a55-46d5-b502-75d7a2412f8f\" class=\"colab-df-container\">\n",
              "    <div>\n",
              "<style scoped>\n",
              "    .dataframe tbody tr th:only-of-type {\n",
              "        vertical-align: middle;\n",
              "    }\n",
              "\n",
              "    .dataframe tbody tr th {\n",
              "        vertical-align: top;\n",
              "    }\n",
              "\n",
              "    .dataframe thead th {\n",
              "        text-align: right;\n",
              "    }\n",
              "</style>\n",
              "<table border=\"1\" class=\"dataframe\">\n",
              "  <thead>\n",
              "    <tr style=\"text-align: right;\">\n",
              "      <th></th>\n",
              "      <th>filename</th>\n",
              "      <th>class</th>\n",
              "    </tr>\n",
              "  </thead>\n",
              "  <tbody>\n",
              "    <tr>\n",
              "      <th>0</th>\n",
              "      <td>/content/Garbage classification/glass/glass233...</td>\n",
              "      <td>glass</td>\n",
              "    </tr>\n",
              "    <tr>\n",
              "      <th>1</th>\n",
              "      <td>/content/Garbage classification/glass/glass158...</td>\n",
              "      <td>glass</td>\n",
              "    </tr>\n",
              "    <tr>\n",
              "      <th>2</th>\n",
              "      <td>/content/Garbage classification/paper/paper576...</td>\n",
              "      <td>paper</td>\n",
              "    </tr>\n",
              "    <tr>\n",
              "      <th>3</th>\n",
              "      <td>/content/Garbage classification/paper/paper126...</td>\n",
              "      <td>paper</td>\n",
              "    </tr>\n",
              "    <tr>\n",
              "      <th>4</th>\n",
              "      <td>/content/Garbage classification/paper/paper194...</td>\n",
              "      <td>paper</td>\n",
              "    </tr>\n",
              "    <tr>\n",
              "      <th>...</th>\n",
              "      <td>...</td>\n",
              "      <td>...</td>\n",
              "    </tr>\n",
              "    <tr>\n",
              "      <th>2385</th>\n",
              "      <td>/content/Garbage classification/metal/metal315...</td>\n",
              "      <td>metal</td>\n",
              "    </tr>\n",
              "    <tr>\n",
              "      <th>2386</th>\n",
              "      <td>/content/Garbage classification/glass/glass387...</td>\n",
              "      <td>glass</td>\n",
              "    </tr>\n",
              "    <tr>\n",
              "      <th>2387</th>\n",
              "      <td>/content/Garbage classification/glass/glass373...</td>\n",
              "      <td>glass</td>\n",
              "    </tr>\n",
              "    <tr>\n",
              "      <th>2388</th>\n",
              "      <td>/content/Garbage classification/glass/glass76.jpg</td>\n",
              "      <td>glass</td>\n",
              "    </tr>\n",
              "    <tr>\n",
              "      <th>2389</th>\n",
              "      <td>/content/Garbage classification/cardboard/card...</td>\n",
              "      <td>cardboard</td>\n",
              "    </tr>\n",
              "  </tbody>\n",
              "</table>\n",
              "<p>2390 rows × 2 columns</p>\n",
              "</div>\n",
              "    <div class=\"colab-df-buttons\">\n",
              "\n",
              "  <div class=\"colab-df-container\">\n",
              "    <button class=\"colab-df-convert\" onclick=\"convertToInteractive('df-f3cb3b33-6a55-46d5-b502-75d7a2412f8f')\"\n",
              "            title=\"Convert this dataframe to an interactive table.\"\n",
              "            style=\"display:none;\">\n",
              "\n",
              "  <svg xmlns=\"http://www.w3.org/2000/svg\" height=\"24px\" viewBox=\"0 -960 960 960\">\n",
              "    <path d=\"M120-120v-720h720v720H120Zm60-500h600v-160H180v160Zm220 220h160v-160H400v160Zm0 220h160v-160H400v160ZM180-400h160v-160H180v160Zm440 0h160v-160H620v160ZM180-180h160v-160H180v160Zm440 0h160v-160H620v160Z\"/>\n",
              "  </svg>\n",
              "    </button>\n",
              "\n",
              "  <style>\n",
              "    .colab-df-container {\n",
              "      display:flex;\n",
              "      gap: 12px;\n",
              "    }\n",
              "\n",
              "    .colab-df-convert {\n",
              "      background-color: #E8F0FE;\n",
              "      border: none;\n",
              "      border-radius: 50%;\n",
              "      cursor: pointer;\n",
              "      display: none;\n",
              "      fill: #1967D2;\n",
              "      height: 32px;\n",
              "      padding: 0 0 0 0;\n",
              "      width: 32px;\n",
              "    }\n",
              "\n",
              "    .colab-df-convert:hover {\n",
              "      background-color: #E2EBFA;\n",
              "      box-shadow: 0px 1px 2px rgba(60, 64, 67, 0.3), 0px 1px 3px 1px rgba(60, 64, 67, 0.15);\n",
              "      fill: #174EA6;\n",
              "    }\n",
              "\n",
              "    .colab-df-buttons div {\n",
              "      margin-bottom: 4px;\n",
              "    }\n",
              "\n",
              "    [theme=dark] .colab-df-convert {\n",
              "      background-color: #3B4455;\n",
              "      fill: #D2E3FC;\n",
              "    }\n",
              "\n",
              "    [theme=dark] .colab-df-convert:hover {\n",
              "      background-color: #434B5C;\n",
              "      box-shadow: 0px 1px 3px 1px rgba(0, 0, 0, 0.15);\n",
              "      filter: drop-shadow(0px 1px 2px rgba(0, 0, 0, 0.3));\n",
              "      fill: #FFFFFF;\n",
              "    }\n",
              "  </style>\n",
              "\n",
              "    <script>\n",
              "      const buttonEl =\n",
              "        document.querySelector('#df-f3cb3b33-6a55-46d5-b502-75d7a2412f8f button.colab-df-convert');\n",
              "      buttonEl.style.display =\n",
              "        google.colab.kernel.accessAllowed ? 'block' : 'none';\n",
              "\n",
              "      async function convertToInteractive(key) {\n",
              "        const element = document.querySelector('#df-f3cb3b33-6a55-46d5-b502-75d7a2412f8f');\n",
              "        const dataTable =\n",
              "          await google.colab.kernel.invokeFunction('convertToInteractive',\n",
              "                                                    [key], {});\n",
              "        if (!dataTable) return;\n",
              "\n",
              "        const docLinkHtml = 'Like what you see? Visit the ' +\n",
              "          '<a target=\"_blank\" href=https://colab.research.google.com/notebooks/data_table.ipynb>data table notebook</a>'\n",
              "          + ' to learn more about interactive tables.';\n",
              "        element.innerHTML = '';\n",
              "        dataTable['output_type'] = 'display_data';\n",
              "        await google.colab.output.renderOutput(dataTable, element);\n",
              "        const docLink = document.createElement('div');\n",
              "        docLink.innerHTML = docLinkHtml;\n",
              "        element.appendChild(docLink);\n",
              "      }\n",
              "    </script>\n",
              "  </div>\n",
              "\n",
              "\n",
              "<div id=\"df-cb3735af-aed5-45ed-b9bd-5b405e27fa33\">\n",
              "  <button class=\"colab-df-quickchart\" onclick=\"quickchart('df-cb3735af-aed5-45ed-b9bd-5b405e27fa33')\"\n",
              "            title=\"Suggest charts\"\n",
              "            style=\"display:none;\">\n",
              "\n",
              "<svg xmlns=\"http://www.w3.org/2000/svg\" height=\"24px\"viewBox=\"0 0 24 24\"\n",
              "     width=\"24px\">\n",
              "    <g>\n",
              "        <path d=\"M19 3H5c-1.1 0-2 .9-2 2v14c0 1.1.9 2 2 2h14c1.1 0 2-.9 2-2V5c0-1.1-.9-2-2-2zM9 17H7v-7h2v7zm4 0h-2V7h2v10zm4 0h-2v-4h2v4z\"/>\n",
              "    </g>\n",
              "</svg>\n",
              "  </button>\n",
              "\n",
              "<style>\n",
              "  .colab-df-quickchart {\n",
              "      --bg-color: #E8F0FE;\n",
              "      --fill-color: #1967D2;\n",
              "      --hover-bg-color: #E2EBFA;\n",
              "      --hover-fill-color: #174EA6;\n",
              "      --disabled-fill-color: #AAA;\n",
              "      --disabled-bg-color: #DDD;\n",
              "  }\n",
              "\n",
              "  [theme=dark] .colab-df-quickchart {\n",
              "      --bg-color: #3B4455;\n",
              "      --fill-color: #D2E3FC;\n",
              "      --hover-bg-color: #434B5C;\n",
              "      --hover-fill-color: #FFFFFF;\n",
              "      --disabled-bg-color: #3B4455;\n",
              "      --disabled-fill-color: #666;\n",
              "  }\n",
              "\n",
              "  .colab-df-quickchart {\n",
              "    background-color: var(--bg-color);\n",
              "    border: none;\n",
              "    border-radius: 50%;\n",
              "    cursor: pointer;\n",
              "    display: none;\n",
              "    fill: var(--fill-color);\n",
              "    height: 32px;\n",
              "    padding: 0;\n",
              "    width: 32px;\n",
              "  }\n",
              "\n",
              "  .colab-df-quickchart:hover {\n",
              "    background-color: var(--hover-bg-color);\n",
              "    box-shadow: 0 1px 2px rgba(60, 64, 67, 0.3), 0 1px 3px 1px rgba(60, 64, 67, 0.15);\n",
              "    fill: var(--button-hover-fill-color);\n",
              "  }\n",
              "\n",
              "  .colab-df-quickchart-complete:disabled,\n",
              "  .colab-df-quickchart-complete:disabled:hover {\n",
              "    background-color: var(--disabled-bg-color);\n",
              "    fill: var(--disabled-fill-color);\n",
              "    box-shadow: none;\n",
              "  }\n",
              "\n",
              "  .colab-df-spinner {\n",
              "    border: 2px solid var(--fill-color);\n",
              "    border-color: transparent;\n",
              "    border-bottom-color: var(--fill-color);\n",
              "    animation:\n",
              "      spin 1s steps(1) infinite;\n",
              "  }\n",
              "\n",
              "  @keyframes spin {\n",
              "    0% {\n",
              "      border-color: transparent;\n",
              "      border-bottom-color: var(--fill-color);\n",
              "      border-left-color: var(--fill-color);\n",
              "    }\n",
              "    20% {\n",
              "      border-color: transparent;\n",
              "      border-left-color: var(--fill-color);\n",
              "      border-top-color: var(--fill-color);\n",
              "    }\n",
              "    30% {\n",
              "      border-color: transparent;\n",
              "      border-left-color: var(--fill-color);\n",
              "      border-top-color: var(--fill-color);\n",
              "      border-right-color: var(--fill-color);\n",
              "    }\n",
              "    40% {\n",
              "      border-color: transparent;\n",
              "      border-right-color: var(--fill-color);\n",
              "      border-top-color: var(--fill-color);\n",
              "    }\n",
              "    60% {\n",
              "      border-color: transparent;\n",
              "      border-right-color: var(--fill-color);\n",
              "    }\n",
              "    80% {\n",
              "      border-color: transparent;\n",
              "      border-right-color: var(--fill-color);\n",
              "      border-bottom-color: var(--fill-color);\n",
              "    }\n",
              "    90% {\n",
              "      border-color: transparent;\n",
              "      border-bottom-color: var(--fill-color);\n",
              "    }\n",
              "  }\n",
              "</style>\n",
              "\n",
              "  <script>\n",
              "    async function quickchart(key) {\n",
              "      const quickchartButtonEl =\n",
              "        document.querySelector('#' + key + ' button');\n",
              "      quickchartButtonEl.disabled = true;  // To prevent multiple clicks.\n",
              "      quickchartButtonEl.classList.add('colab-df-spinner');\n",
              "      try {\n",
              "        const charts = await google.colab.kernel.invokeFunction(\n",
              "            'suggestCharts', [key], {});\n",
              "      } catch (error) {\n",
              "        console.error('Error during call to suggestCharts:', error);\n",
              "      }\n",
              "      quickchartButtonEl.classList.remove('colab-df-spinner');\n",
              "      quickchartButtonEl.classList.add('colab-df-quickchart-complete');\n",
              "    }\n",
              "    (() => {\n",
              "      let quickchartButtonEl =\n",
              "        document.querySelector('#df-cb3735af-aed5-45ed-b9bd-5b405e27fa33 button');\n",
              "      quickchartButtonEl.style.display =\n",
              "        google.colab.kernel.accessAllowed ? 'block' : 'none';\n",
              "    })();\n",
              "  </script>\n",
              "</div>\n",
              "    </div>\n",
              "  </div>\n"
            ]
          },
          "metadata": {},
          "execution_count": 12
        }
      ]
    },
    {
      "cell_type": "code",
      "source": [
        "change = {\n",
        "'cardboard' : '0',\n",
        "'glass': '1',\n",
        "'metal' : '2',\n",
        "'paper' : '3',\n",
        "'plastic' : '4'\n",
        "}\n",
        "\n",
        "data['class'] = data['class'].map(change)\n",
        "data"
      ],
      "metadata": {
        "colab": {
          "base_uri": "https://localhost:8080/",
          "height": 424
        },
        "id": "Wii1j03_71F9",
        "outputId": "488c9710-f9f5-4281-c924-2ea69f907594"
      },
      "execution_count": 13,
      "outputs": [
        {
          "output_type": "execute_result",
          "data": {
            "text/plain": [
              "                                               filename class\n",
              "0     /content/Garbage classification/glass/glass233...     1\n",
              "1     /content/Garbage classification/glass/glass158...     1\n",
              "2     /content/Garbage classification/paper/paper576...     3\n",
              "3     /content/Garbage classification/paper/paper126...     3\n",
              "4     /content/Garbage classification/paper/paper194...     3\n",
              "...                                                 ...   ...\n",
              "2385  /content/Garbage classification/metal/metal315...     2\n",
              "2386  /content/Garbage classification/glass/glass387...     1\n",
              "2387  /content/Garbage classification/glass/glass373...     1\n",
              "2388  /content/Garbage classification/glass/glass76.jpg     1\n",
              "2389  /content/Garbage classification/cardboard/card...     0\n",
              "\n",
              "[2390 rows x 2 columns]"
            ],
            "text/html": [
              "\n",
              "  <div id=\"df-1bca0b8f-df41-493a-9006-457b674f1273\" class=\"colab-df-container\">\n",
              "    <div>\n",
              "<style scoped>\n",
              "    .dataframe tbody tr th:only-of-type {\n",
              "        vertical-align: middle;\n",
              "    }\n",
              "\n",
              "    .dataframe tbody tr th {\n",
              "        vertical-align: top;\n",
              "    }\n",
              "\n",
              "    .dataframe thead th {\n",
              "        text-align: right;\n",
              "    }\n",
              "</style>\n",
              "<table border=\"1\" class=\"dataframe\">\n",
              "  <thead>\n",
              "    <tr style=\"text-align: right;\">\n",
              "      <th></th>\n",
              "      <th>filename</th>\n",
              "      <th>class</th>\n",
              "    </tr>\n",
              "  </thead>\n",
              "  <tbody>\n",
              "    <tr>\n",
              "      <th>0</th>\n",
              "      <td>/content/Garbage classification/glass/glass233...</td>\n",
              "      <td>1</td>\n",
              "    </tr>\n",
              "    <tr>\n",
              "      <th>1</th>\n",
              "      <td>/content/Garbage classification/glass/glass158...</td>\n",
              "      <td>1</td>\n",
              "    </tr>\n",
              "    <tr>\n",
              "      <th>2</th>\n",
              "      <td>/content/Garbage classification/paper/paper576...</td>\n",
              "      <td>3</td>\n",
              "    </tr>\n",
              "    <tr>\n",
              "      <th>3</th>\n",
              "      <td>/content/Garbage classification/paper/paper126...</td>\n",
              "      <td>3</td>\n",
              "    </tr>\n",
              "    <tr>\n",
              "      <th>4</th>\n",
              "      <td>/content/Garbage classification/paper/paper194...</td>\n",
              "      <td>3</td>\n",
              "    </tr>\n",
              "    <tr>\n",
              "      <th>...</th>\n",
              "      <td>...</td>\n",
              "      <td>...</td>\n",
              "    </tr>\n",
              "    <tr>\n",
              "      <th>2385</th>\n",
              "      <td>/content/Garbage classification/metal/metal315...</td>\n",
              "      <td>2</td>\n",
              "    </tr>\n",
              "    <tr>\n",
              "      <th>2386</th>\n",
              "      <td>/content/Garbage classification/glass/glass387...</td>\n",
              "      <td>1</td>\n",
              "    </tr>\n",
              "    <tr>\n",
              "      <th>2387</th>\n",
              "      <td>/content/Garbage classification/glass/glass373...</td>\n",
              "      <td>1</td>\n",
              "    </tr>\n",
              "    <tr>\n",
              "      <th>2388</th>\n",
              "      <td>/content/Garbage classification/glass/glass76.jpg</td>\n",
              "      <td>1</td>\n",
              "    </tr>\n",
              "    <tr>\n",
              "      <th>2389</th>\n",
              "      <td>/content/Garbage classification/cardboard/card...</td>\n",
              "      <td>0</td>\n",
              "    </tr>\n",
              "  </tbody>\n",
              "</table>\n",
              "<p>2390 rows × 2 columns</p>\n",
              "</div>\n",
              "    <div class=\"colab-df-buttons\">\n",
              "\n",
              "  <div class=\"colab-df-container\">\n",
              "    <button class=\"colab-df-convert\" onclick=\"convertToInteractive('df-1bca0b8f-df41-493a-9006-457b674f1273')\"\n",
              "            title=\"Convert this dataframe to an interactive table.\"\n",
              "            style=\"display:none;\">\n",
              "\n",
              "  <svg xmlns=\"http://www.w3.org/2000/svg\" height=\"24px\" viewBox=\"0 -960 960 960\">\n",
              "    <path d=\"M120-120v-720h720v720H120Zm60-500h600v-160H180v160Zm220 220h160v-160H400v160Zm0 220h160v-160H400v160ZM180-400h160v-160H180v160Zm440 0h160v-160H620v160ZM180-180h160v-160H180v160Zm440 0h160v-160H620v160Z\"/>\n",
              "  </svg>\n",
              "    </button>\n",
              "\n",
              "  <style>\n",
              "    .colab-df-container {\n",
              "      display:flex;\n",
              "      gap: 12px;\n",
              "    }\n",
              "\n",
              "    .colab-df-convert {\n",
              "      background-color: #E8F0FE;\n",
              "      border: none;\n",
              "      border-radius: 50%;\n",
              "      cursor: pointer;\n",
              "      display: none;\n",
              "      fill: #1967D2;\n",
              "      height: 32px;\n",
              "      padding: 0 0 0 0;\n",
              "      width: 32px;\n",
              "    }\n",
              "\n",
              "    .colab-df-convert:hover {\n",
              "      background-color: #E2EBFA;\n",
              "      box-shadow: 0px 1px 2px rgba(60, 64, 67, 0.3), 0px 1px 3px 1px rgba(60, 64, 67, 0.15);\n",
              "      fill: #174EA6;\n",
              "    }\n",
              "\n",
              "    .colab-df-buttons div {\n",
              "      margin-bottom: 4px;\n",
              "    }\n",
              "\n",
              "    [theme=dark] .colab-df-convert {\n",
              "      background-color: #3B4455;\n",
              "      fill: #D2E3FC;\n",
              "    }\n",
              "\n",
              "    [theme=dark] .colab-df-convert:hover {\n",
              "      background-color: #434B5C;\n",
              "      box-shadow: 0px 1px 3px 1px rgba(0, 0, 0, 0.15);\n",
              "      filter: drop-shadow(0px 1px 2px rgba(0, 0, 0, 0.3));\n",
              "      fill: #FFFFFF;\n",
              "    }\n",
              "  </style>\n",
              "\n",
              "    <script>\n",
              "      const buttonEl =\n",
              "        document.querySelector('#df-1bca0b8f-df41-493a-9006-457b674f1273 button.colab-df-convert');\n",
              "      buttonEl.style.display =\n",
              "        google.colab.kernel.accessAllowed ? 'block' : 'none';\n",
              "\n",
              "      async function convertToInteractive(key) {\n",
              "        const element = document.querySelector('#df-1bca0b8f-df41-493a-9006-457b674f1273');\n",
              "        const dataTable =\n",
              "          await google.colab.kernel.invokeFunction('convertToInteractive',\n",
              "                                                    [key], {});\n",
              "        if (!dataTable) return;\n",
              "\n",
              "        const docLinkHtml = 'Like what you see? Visit the ' +\n",
              "          '<a target=\"_blank\" href=https://colab.research.google.com/notebooks/data_table.ipynb>data table notebook</a>'\n",
              "          + ' to learn more about interactive tables.';\n",
              "        element.innerHTML = '';\n",
              "        dataTable['output_type'] = 'display_data';\n",
              "        await google.colab.output.renderOutput(dataTable, element);\n",
              "        const docLink = document.createElement('div');\n",
              "        docLink.innerHTML = docLinkHtml;\n",
              "        element.appendChild(docLink);\n",
              "      }\n",
              "    </script>\n",
              "  </div>\n",
              "\n",
              "\n",
              "<div id=\"df-9603f20f-e1d6-4705-a9e7-abb3df275c77\">\n",
              "  <button class=\"colab-df-quickchart\" onclick=\"quickchart('df-9603f20f-e1d6-4705-a9e7-abb3df275c77')\"\n",
              "            title=\"Suggest charts\"\n",
              "            style=\"display:none;\">\n",
              "\n",
              "<svg xmlns=\"http://www.w3.org/2000/svg\" height=\"24px\"viewBox=\"0 0 24 24\"\n",
              "     width=\"24px\">\n",
              "    <g>\n",
              "        <path d=\"M19 3H5c-1.1 0-2 .9-2 2v14c0 1.1.9 2 2 2h14c1.1 0 2-.9 2-2V5c0-1.1-.9-2-2-2zM9 17H7v-7h2v7zm4 0h-2V7h2v10zm4 0h-2v-4h2v4z\"/>\n",
              "    </g>\n",
              "</svg>\n",
              "  </button>\n",
              "\n",
              "<style>\n",
              "  .colab-df-quickchart {\n",
              "      --bg-color: #E8F0FE;\n",
              "      --fill-color: #1967D2;\n",
              "      --hover-bg-color: #E2EBFA;\n",
              "      --hover-fill-color: #174EA6;\n",
              "      --disabled-fill-color: #AAA;\n",
              "      --disabled-bg-color: #DDD;\n",
              "  }\n",
              "\n",
              "  [theme=dark] .colab-df-quickchart {\n",
              "      --bg-color: #3B4455;\n",
              "      --fill-color: #D2E3FC;\n",
              "      --hover-bg-color: #434B5C;\n",
              "      --hover-fill-color: #FFFFFF;\n",
              "      --disabled-bg-color: #3B4455;\n",
              "      --disabled-fill-color: #666;\n",
              "  }\n",
              "\n",
              "  .colab-df-quickchart {\n",
              "    background-color: var(--bg-color);\n",
              "    border: none;\n",
              "    border-radius: 50%;\n",
              "    cursor: pointer;\n",
              "    display: none;\n",
              "    fill: var(--fill-color);\n",
              "    height: 32px;\n",
              "    padding: 0;\n",
              "    width: 32px;\n",
              "  }\n",
              "\n",
              "  .colab-df-quickchart:hover {\n",
              "    background-color: var(--hover-bg-color);\n",
              "    box-shadow: 0 1px 2px rgba(60, 64, 67, 0.3), 0 1px 3px 1px rgba(60, 64, 67, 0.15);\n",
              "    fill: var(--button-hover-fill-color);\n",
              "  }\n",
              "\n",
              "  .colab-df-quickchart-complete:disabled,\n",
              "  .colab-df-quickchart-complete:disabled:hover {\n",
              "    background-color: var(--disabled-bg-color);\n",
              "    fill: var(--disabled-fill-color);\n",
              "    box-shadow: none;\n",
              "  }\n",
              "\n",
              "  .colab-df-spinner {\n",
              "    border: 2px solid var(--fill-color);\n",
              "    border-color: transparent;\n",
              "    border-bottom-color: var(--fill-color);\n",
              "    animation:\n",
              "      spin 1s steps(1) infinite;\n",
              "  }\n",
              "\n",
              "  @keyframes spin {\n",
              "    0% {\n",
              "      border-color: transparent;\n",
              "      border-bottom-color: var(--fill-color);\n",
              "      border-left-color: var(--fill-color);\n",
              "    }\n",
              "    20% {\n",
              "      border-color: transparent;\n",
              "      border-left-color: var(--fill-color);\n",
              "      border-top-color: var(--fill-color);\n",
              "    }\n",
              "    30% {\n",
              "      border-color: transparent;\n",
              "      border-left-color: var(--fill-color);\n",
              "      border-top-color: var(--fill-color);\n",
              "      border-right-color: var(--fill-color);\n",
              "    }\n",
              "    40% {\n",
              "      border-color: transparent;\n",
              "      border-right-color: var(--fill-color);\n",
              "      border-top-color: var(--fill-color);\n",
              "    }\n",
              "    60% {\n",
              "      border-color: transparent;\n",
              "      border-right-color: var(--fill-color);\n",
              "    }\n",
              "    80% {\n",
              "      border-color: transparent;\n",
              "      border-right-color: var(--fill-color);\n",
              "      border-bottom-color: var(--fill-color);\n",
              "    }\n",
              "    90% {\n",
              "      border-color: transparent;\n",
              "      border-bottom-color: var(--fill-color);\n",
              "    }\n",
              "  }\n",
              "</style>\n",
              "\n",
              "  <script>\n",
              "    async function quickchart(key) {\n",
              "      const quickchartButtonEl =\n",
              "        document.querySelector('#' + key + ' button');\n",
              "      quickchartButtonEl.disabled = true;  // To prevent multiple clicks.\n",
              "      quickchartButtonEl.classList.add('colab-df-spinner');\n",
              "      try {\n",
              "        const charts = await google.colab.kernel.invokeFunction(\n",
              "            'suggestCharts', [key], {});\n",
              "      } catch (error) {\n",
              "        console.error('Error during call to suggestCharts:', error);\n",
              "      }\n",
              "      quickchartButtonEl.classList.remove('colab-df-spinner');\n",
              "      quickchartButtonEl.classList.add('colab-df-quickchart-complete');\n",
              "    }\n",
              "    (() => {\n",
              "      let quickchartButtonEl =\n",
              "        document.querySelector('#df-9603f20f-e1d6-4705-a9e7-abb3df275c77 button');\n",
              "      quickchartButtonEl.style.display =\n",
              "        google.colab.kernel.accessAllowed ? 'block' : 'none';\n",
              "    })();\n",
              "  </script>\n",
              "</div>\n",
              "    </div>\n",
              "  </div>\n"
            ]
          },
          "metadata": {},
          "execution_count": 13
        }
      ]
    },
    {
      "cell_type": "code",
      "source": [
        "indexes=[]\n",
        "\n",
        "def func(x):\n",
        "    if x[-4:] != '.jpg':\n",
        "        idx = data[data['filename'] == x].index\n",
        "        indexes.append(idx[0])\n",
        "        print(idx[0], x)\n",
        "    return x\n",
        "\n",
        "data['filename'].map(func)\n",
        "\n",
        "print(data.shape)\n",
        "data.drop(index=indexes, axis=0, inplace=True)\n",
        "data.reset_index(drop=True, inplace=True)\n",
        "print(data.shape)"
      ],
      "metadata": {
        "colab": {
          "base_uri": "https://localhost:8080/"
        },
        "id": "pUCYXEOl9upI",
        "outputId": "f91ad7c7-4b2d-45eb-b695-39c07c9b9494"
      },
      "execution_count": 14,
      "outputs": [
        {
          "output_type": "stream",
          "name": "stdout",
          "text": [
            "(2390, 2)\n",
            "(2390, 2)\n"
          ]
        }
      ]
    },
    {
      "cell_type": "code",
      "source": [
        "for el in range(100, 120):\n",
        "    path = data.loc[el, 'filename']\n",
        "    img  = cv2.imread(path)\n",
        "    print(img.shape)"
      ],
      "metadata": {
        "colab": {
          "base_uri": "https://localhost:8080/"
        },
        "id": "6AkWI9y09zEU",
        "outputId": "88b8c3d2-4c05-4c5e-a6b6-b40afc03197a"
      },
      "execution_count": 15,
      "outputs": [
        {
          "output_type": "stream",
          "name": "stdout",
          "text": [
            "(384, 512, 3)\n",
            "(384, 512, 3)\n",
            "(384, 512, 3)\n",
            "(384, 512, 3)\n",
            "(384, 512, 3)\n",
            "(384, 512, 3)\n",
            "(384, 512, 3)\n",
            "(384, 512, 3)\n",
            "(384, 512, 3)\n",
            "(384, 512, 3)\n",
            "(384, 512, 3)\n",
            "(384, 512, 3)\n",
            "(384, 512, 3)\n",
            "(384, 512, 3)\n",
            "(384, 512, 3)\n",
            "(384, 512, 3)\n",
            "(384, 512, 3)\n",
            "(384, 512, 3)\n",
            "(384, 512, 3)\n",
            "(384, 512, 3)\n"
          ]
        }
      ]
    },
    {
      "cell_type": "markdown",
      "source": [
        "Membagi Dataset"
      ],
      "metadata": {
        "id": "Va6jjHdT-BoR"
      }
    },
    {
      "cell_type": "code",
      "source": [
        "train_data, test_data = train_test_split(data, test_size=0.2, random_state=42, stratify=data['class'])\n",
        "print(train_data['class'].value_counts(dropna=False))\n",
        "print(test_data['class'].value_counts(dropna=False))"
      ],
      "metadata": {
        "colab": {
          "base_uri": "https://localhost:8080/"
        },
        "id": "splf43gZ97q9",
        "outputId": "5e999c01-3da0-4856-de50-0d6950414fdf"
      },
      "execution_count": 16,
      "outputs": [
        {
          "output_type": "stream",
          "name": "stdout",
          "text": [
            "3    475\n",
            "1    401\n",
            "4    386\n",
            "2    328\n",
            "0    322\n",
            "Name: class, dtype: int64\n",
            "3    119\n",
            "1    100\n",
            "4     96\n",
            "2     82\n",
            "0     81\n",
            "Name: class, dtype: int64\n"
          ]
        }
      ]
    },
    {
      "cell_type": "markdown",
      "source": [
        "Augmentasi Data"
      ],
      "metadata": {
        "id": "PJoHLBwA_fsw"
      }
    },
    {
      "cell_type": "code",
      "source": [
        "train_datagen = ImageDataGenerator(rescale=1./255,\n",
        "                                    rotation_range=40,\n",
        "                                    width_shift_range=0.2,\n",
        "                                    height_shift_range=0.2,\n",
        "                                    shear_range=0.2,\n",
        "                                    zoom_range=0.2,\n",
        "                                    horizontal_flip=True,\n",
        "                                    fill_mode='nearest')\n",
        "\n",
        "train_generator = train_datagen.flow_from_dataframe(\n",
        "                  train_data,\n",
        "                  x_col=\"filename\",\n",
        "                  y_col=\"class\",\n",
        "                  target_size=(IM_HEIGHT, IM_WIDTH),\n",
        "                  class_mode='categorical',\n",
        "                  batch_size= BATCH_SIZE,\n",
        "                  color_mode='rgb',\n",
        "                  shuffle=True,\n",
        "                  num_parallel_calls=AUTOTUNE)\n",
        "\n",
        "test_datagen = ImageDataGenerator(rescale=1./255)\n",
        "\n",
        "test_generator = test_datagen.flow_from_dataframe(\n",
        "                 test_data,\n",
        "                 x_col=\"filename\",\n",
        "                 y_col=\"class\",\n",
        "                 target_size=(IM_HEIGHT, IM_WIDTH),\n",
        "                 class_mode='categorical',\n",
        "                 batch_size= BATCH_SIZE,\n",
        "                 color_mode='rgb',\n",
        "                 shuffle=False,\n",
        "                 num_parallel_calls=AUTOTUNE)"
      ],
      "metadata": {
        "colab": {
          "base_uri": "https://localhost:8080/"
        },
        "id": "nNHZizHB-Jpb",
        "outputId": "54cd859b-a133-4042-d3d4-c50d96cb5e80"
      },
      "execution_count": 17,
      "outputs": [
        {
          "output_type": "stream",
          "name": "stdout",
          "text": [
            "Found 1912 validated image filenames belonging to 5 classes.\n",
            "Found 478 validated image filenames belonging to 5 classes.\n"
          ]
        }
      ]
    },
    {
      "cell_type": "markdown",
      "source": [
        "Arsitektur Model"
      ],
      "metadata": {
        "id": "Wm7I7_iZA3FL"
      }
    },
    {
      "cell_type": "code",
      "source": [
        "def create_model():\n",
        "    model = tf.keras.models.Sequential([\n",
        "        tf.keras.layers.Conv2D(32, (3,3), activation='relu', input_shape=(IM_HEIGHT, IM_WIDTH, 3)),\n",
        "        tf.keras.layers.MaxPool2D(2,2),\n",
        "        tf.keras.layers.Conv2D(64, (3,3), activation='relu'),\n",
        "        tf.keras.layers.MaxPool2D(2,2),\n",
        "        tf.keras.layers.Conv2D(128,(3,3), activation='relu'),\n",
        "        tf.keras.layers.MaxPool2D(2,2),\n",
        "        tf.keras.layers.Flatten(),\n",
        "        tf.keras.layers.Dense(512, activation='relu'),\n",
        "        tf.keras.layers.Dropout(0.2),\n",
        "        tf.keras.layers.Dense(5, activation='softmax')\n",
        "    ])\n",
        "\n",
        "    model.compile(optimizer='adam',\n",
        "                  loss = 'categorical_crossentropy',\n",
        "                  metrics = ['accuracy'])\n",
        "\n",
        "    return model\n",
        "\n",
        "model = create_model()\n",
        "model.summary()"
      ],
      "metadata": {
        "colab": {
          "base_uri": "https://localhost:8080/"
        },
        "id": "APoY5JySAZ_H",
        "outputId": "6f30293d-f882-434b-e294-540f8761fe7e"
      },
      "execution_count": 18,
      "outputs": [
        {
          "output_type": "stream",
          "name": "stdout",
          "text": [
            "Model: \"sequential\"\n",
            "_________________________________________________________________\n",
            " Layer (type)                Output Shape              Param #   \n",
            "=================================================================\n",
            " conv2d (Conv2D)             (None, 298, 298, 32)      896       \n",
            "                                                                 \n",
            " max_pooling2d (MaxPooling2  (None, 149, 149, 32)      0         \n",
            " D)                                                              \n",
            "                                                                 \n",
            " conv2d_1 (Conv2D)           (None, 147, 147, 64)      18496     \n",
            "                                                                 \n",
            " max_pooling2d_1 (MaxPoolin  (None, 73, 73, 64)        0         \n",
            " g2D)                                                            \n",
            "                                                                 \n",
            " conv2d_2 (Conv2D)           (None, 71, 71, 128)       73856     \n",
            "                                                                 \n",
            " max_pooling2d_2 (MaxPoolin  (None, 35, 35, 128)       0         \n",
            " g2D)                                                            \n",
            "                                                                 \n",
            " flatten (Flatten)           (None, 156800)            0         \n",
            "                                                                 \n",
            " dense (Dense)               (None, 512)               80282112  \n",
            "                                                                 \n",
            " dropout (Dropout)           (None, 512)               0         \n",
            "                                                                 \n",
            " dense_1 (Dense)             (None, 5)                 2565      \n",
            "                                                                 \n",
            "=================================================================\n",
            "Total params: 80377925 (306.62 MB)\n",
            "Trainable params: 80377925 (306.62 MB)\n",
            "Non-trainable params: 0 (0.00 Byte)\n",
            "_________________________________________________________________\n"
          ]
        }
      ]
    },
    {
      "cell_type": "code",
      "source": [
        "init_time = datetime.datetime.now()\n",
        "\n",
        "\n",
        "train_steps = train_generator.samples // BATCH_SIZE\n",
        "valid_steps = test_generator.samples // BATCH_SIZE\n",
        "\n",
        "early_stopping = EarlyStopping(monitor=\"val_loss\", patience=8, mode=\"min\")\n",
        "checkpoint = ModelCheckpoint(\"loss-{val_loss:.4f}.h5\", monitor=\"val_loss\", verbose=0,\n",
        "                             save_best_only=True, save_weights_only=True, mode=\"min\")\n",
        "learning_rate_reduction = ReduceLROnPlateau(monitor=\"val_loss\", factor=0.1, patience=4,\n",
        "                                            min_lr=1e-7, verbose=1, mode=\"min\")\n",
        "history = model.fit(\n",
        "    train_generator,\n",
        "    validation_data=test_generator,\n",
        "    batch_size=BATCH_SIZE,\n",
        "    epochs=EPOCHS,\n",
        "    steps_per_epoch=train_steps,\n",
        "    validation_steps=valid_steps,\n",
        "    callbacks=[\n",
        "                checkpoint,\n",
        "                early_stopping,\n",
        "                learning_rate_reduction],\n",
        "    verbose=1,\n",
        "    )\n",
        "requared_time = datetime.datetime.now() - init_time\n",
        "print(f'\\nRequired time:  {str(requared_time)}\\n')"
      ],
      "metadata": {
        "colab": {
          "base_uri": "https://localhost:8080/"
        },
        "id": "lRG13pouBLlp",
        "outputId": "dee8b5b0-1c05-4f74-fcee-3cab6de7f629"
      },
      "execution_count": 19,
      "outputs": [
        {
          "output_type": "stream",
          "name": "stdout",
          "text": [
            "Epoch 1/50\n",
            "29/29 [==============================] - 66s 2s/step - loss: 2.5874 - accuracy: 0.3295 - val_loss: 1.3746 - val_accuracy: 0.3884 - lr: 0.0010\n",
            "Epoch 2/50\n",
            "29/29 [==============================] - 50s 2s/step - loss: 1.3619 - accuracy: 0.3961 - val_loss: 1.3548 - val_accuracy: 0.3549 - lr: 0.0010\n",
            "Epoch 3/50\n",
            "29/29 [==============================] - 49s 2s/step - loss: 1.3163 - accuracy: 0.4280 - val_loss: 1.2615 - val_accuracy: 0.4554 - lr: 0.0010\n",
            "Epoch 4/50\n",
            "29/29 [==============================] - 49s 2s/step - loss: 1.2729 - accuracy: 0.4502 - val_loss: 1.2282 - val_accuracy: 0.4487 - lr: 0.0010\n",
            "Epoch 5/50\n",
            "29/29 [==============================] - 49s 2s/step - loss: 1.2120 - accuracy: 0.5097 - val_loss: 1.1155 - val_accuracy: 0.5201 - lr: 0.0010\n",
            "Epoch 6/50\n",
            "29/29 [==============================] - 49s 2s/step - loss: 1.1386 - accuracy: 0.5216 - val_loss: 1.0853 - val_accuracy: 0.5179 - lr: 0.0010\n",
            "Epoch 7/50\n",
            "29/29 [==============================] - 47s 2s/step - loss: 1.1259 - accuracy: 0.5384 - val_loss: 1.0914 - val_accuracy: 0.5536 - lr: 0.0010\n",
            "Epoch 8/50\n",
            "29/29 [==============================] - 50s 2s/step - loss: 1.1370 - accuracy: 0.5368 - val_loss: 1.0620 - val_accuracy: 0.5335 - lr: 0.0010\n",
            "Epoch 9/50\n",
            "29/29 [==============================] - 49s 2s/step - loss: 1.0902 - accuracy: 0.5595 - val_loss: 1.0577 - val_accuracy: 0.5826 - lr: 0.0010\n",
            "Epoch 10/50\n",
            "29/29 [==============================] - 46s 2s/step - loss: 1.0913 - accuracy: 0.5476 - val_loss: 1.0970 - val_accuracy: 0.5446 - lr: 0.0010\n",
            "Epoch 11/50\n",
            "29/29 [==============================] - 50s 2s/step - loss: 1.0561 - accuracy: 0.5850 - val_loss: 1.0015 - val_accuracy: 0.5804 - lr: 0.0010\n",
            "Epoch 12/50\n",
            "29/29 [==============================] - 48s 2s/step - loss: 1.0331 - accuracy: 0.5795 - val_loss: 1.0527 - val_accuracy: 0.5603 - lr: 0.0010\n",
            "Epoch 13/50\n",
            "29/29 [==============================] - 48s 2s/step - loss: 1.0079 - accuracy: 0.6028 - val_loss: 1.0792 - val_accuracy: 0.5938 - lr: 0.0010\n",
            "Epoch 14/50\n",
            "29/29 [==============================] - 50s 2s/step - loss: 0.9484 - accuracy: 0.6142 - val_loss: 0.8508 - val_accuracy: 0.6674 - lr: 0.0010\n",
            "Epoch 15/50\n",
            "29/29 [==============================] - 49s 2s/step - loss: 0.9099 - accuracy: 0.6573 - val_loss: 0.9763 - val_accuracy: 0.5915 - lr: 0.0010\n",
            "Epoch 16/50\n",
            "29/29 [==============================] - 50s 2s/step - loss: 0.9728 - accuracy: 0.6131 - val_loss: 0.8024 - val_accuracy: 0.7009 - lr: 0.0010\n",
            "Epoch 17/50\n",
            "29/29 [==============================] - 48s 2s/step - loss: 0.8829 - accuracy: 0.6807 - val_loss: 0.8298 - val_accuracy: 0.6540 - lr: 0.0010\n",
            "Epoch 18/50\n",
            "29/29 [==============================] - 49s 2s/step - loss: 0.8678 - accuracy: 0.6732 - val_loss: 0.8841 - val_accuracy: 0.6518 - lr: 0.0010\n",
            "Epoch 19/50\n",
            "29/29 [==============================] - 49s 2s/step - loss: 0.8431 - accuracy: 0.6656 - val_loss: 0.7507 - val_accuracy: 0.7009 - lr: 0.0010\n",
            "Epoch 20/50\n",
            "29/29 [==============================] - 49s 2s/step - loss: 0.8122 - accuracy: 0.6872 - val_loss: 0.7815 - val_accuracy: 0.6853 - lr: 0.0010\n",
            "Epoch 21/50\n",
            "29/29 [==============================] - 48s 2s/step - loss: 0.8637 - accuracy: 0.6699 - val_loss: 0.7322 - val_accuracy: 0.7165 - lr: 0.0010\n",
            "Epoch 22/50\n",
            "29/29 [==============================] - 48s 2s/step - loss: 0.8003 - accuracy: 0.6905 - val_loss: 0.7967 - val_accuracy: 0.6942 - lr: 0.0010\n",
            "Epoch 23/50\n",
            "29/29 [==============================] - 49s 2s/step - loss: 0.7743 - accuracy: 0.7062 - val_loss: 0.7241 - val_accuracy: 0.7076 - lr: 0.0010\n",
            "Epoch 24/50\n",
            "29/29 [==============================] - 50s 2s/step - loss: 0.7408 - accuracy: 0.7229 - val_loss: 0.6947 - val_accuracy: 0.7098 - lr: 0.0010\n",
            "Epoch 25/50\n",
            "29/29 [==============================] - 48s 2s/step - loss: 0.7716 - accuracy: 0.7051 - val_loss: 0.7951 - val_accuracy: 0.6830 - lr: 0.0010\n",
            "Epoch 26/50\n",
            "29/29 [==============================] - 48s 2s/step - loss: 0.7905 - accuracy: 0.7040 - val_loss: 0.7580 - val_accuracy: 0.6987 - lr: 0.0010\n",
            "Epoch 27/50\n",
            "29/29 [==============================] - 48s 2s/step - loss: 0.7461 - accuracy: 0.7121 - val_loss: 0.7279 - val_accuracy: 0.7165 - lr: 0.0010\n",
            "Epoch 28/50\n",
            "29/29 [==============================] - ETA: 0s - loss: 0.7357 - accuracy: 0.7251\n",
            "Epoch 28: ReduceLROnPlateau reducing learning rate to 0.00010000000474974513.\n",
            "29/29 [==============================] - 47s 2s/step - loss: 0.7357 - accuracy: 0.7251 - val_loss: 0.7411 - val_accuracy: 0.7366 - lr: 0.0010\n",
            "Epoch 29/50\n",
            "29/29 [==============================] - 49s 2s/step - loss: 0.6737 - accuracy: 0.7397 - val_loss: 0.6621 - val_accuracy: 0.7455 - lr: 1.0000e-04\n",
            "Epoch 30/50\n",
            "29/29 [==============================] - 50s 2s/step - loss: 0.6267 - accuracy: 0.7635 - val_loss: 0.6619 - val_accuracy: 0.7478 - lr: 1.0000e-04\n",
            "Epoch 31/50\n",
            "29/29 [==============================] - 51s 2s/step - loss: 0.6110 - accuracy: 0.7765 - val_loss: 0.6460 - val_accuracy: 0.7478 - lr: 1.0000e-04\n",
            "Epoch 32/50\n",
            "29/29 [==============================] - 50s 2s/step - loss: 0.6040 - accuracy: 0.7781 - val_loss: 0.6379 - val_accuracy: 0.7634 - lr: 1.0000e-04\n",
            "Epoch 33/50\n",
            "29/29 [==============================] - 49s 2s/step - loss: 0.6067 - accuracy: 0.7630 - val_loss: 0.6385 - val_accuracy: 0.7612 - lr: 1.0000e-04\n",
            "Epoch 34/50\n",
            "29/29 [==============================] - 50s 2s/step - loss: 0.5947 - accuracy: 0.7771 - val_loss: 0.6375 - val_accuracy: 0.7634 - lr: 1.0000e-04\n",
            "Epoch 35/50\n",
            "29/29 [==============================] - 50s 2s/step - loss: 0.5911 - accuracy: 0.7727 - val_loss: 0.6285 - val_accuracy: 0.7746 - lr: 1.0000e-04\n",
            "Epoch 36/50\n",
            "29/29 [==============================] - 48s 2s/step - loss: 0.6145 - accuracy: 0.7679 - val_loss: 0.6366 - val_accuracy: 0.7634 - lr: 1.0000e-04\n",
            "Epoch 37/50\n",
            "29/29 [==============================] - 50s 2s/step - loss: 0.6054 - accuracy: 0.7695 - val_loss: 0.6271 - val_accuracy: 0.7522 - lr: 1.0000e-04\n",
            "Epoch 38/50\n",
            "29/29 [==============================] - 49s 2s/step - loss: 0.5853 - accuracy: 0.7863 - val_loss: 0.6256 - val_accuracy: 0.7679 - lr: 1.0000e-04\n",
            "Epoch 39/50\n",
            "29/29 [==============================] - 49s 2s/step - loss: 0.5780 - accuracy: 0.7830 - val_loss: 0.6221 - val_accuracy: 0.7656 - lr: 1.0000e-04\n",
            "Epoch 40/50\n",
            "29/29 [==============================] - 50s 2s/step - loss: 0.5594 - accuracy: 0.7976 - val_loss: 0.6113 - val_accuracy: 0.7746 - lr: 1.0000e-04\n",
            "Epoch 41/50\n",
            "29/29 [==============================] - 49s 2s/step - loss: 0.5800 - accuracy: 0.7873 - val_loss: 0.6213 - val_accuracy: 0.7656 - lr: 1.0000e-04\n",
            "Epoch 42/50\n",
            "29/29 [==============================] - 47s 2s/step - loss: 0.5934 - accuracy: 0.7781 - val_loss: 0.6155 - val_accuracy: 0.7679 - lr: 1.0000e-04\n",
            "Epoch 43/50\n",
            "29/29 [==============================] - 50s 2s/step - loss: 0.5699 - accuracy: 0.7798 - val_loss: 0.5997 - val_accuracy: 0.7768 - lr: 1.0000e-04\n",
            "Epoch 44/50\n",
            "29/29 [==============================] - 48s 2s/step - loss: 0.5488 - accuracy: 0.7955 - val_loss: 0.6176 - val_accuracy: 0.7790 - lr: 1.0000e-04\n",
            "Epoch 45/50\n",
            "29/29 [==============================] - 48s 2s/step - loss: 0.5863 - accuracy: 0.7744 - val_loss: 0.6008 - val_accuracy: 0.7746 - lr: 1.0000e-04\n",
            "Epoch 46/50\n",
            "29/29 [==============================] - 50s 2s/step - loss: 0.5578 - accuracy: 0.7895 - val_loss: 0.5988 - val_accuracy: 0.7812 - lr: 1.0000e-04\n",
            "Epoch 47/50\n",
            "29/29 [==============================] - 49s 2s/step - loss: 0.5502 - accuracy: 0.7938 - val_loss: 0.5921 - val_accuracy: 0.7835 - lr: 1.0000e-04\n",
            "Epoch 48/50\n",
            "29/29 [==============================] - 48s 2s/step - loss: 0.5415 - accuracy: 0.7960 - val_loss: 0.6016 - val_accuracy: 0.7812 - lr: 1.0000e-04\n",
            "Epoch 49/50\n",
            "29/29 [==============================] - 48s 2s/step - loss: 0.5503 - accuracy: 0.7949 - val_loss: 0.6132 - val_accuracy: 0.7835 - lr: 1.0000e-04\n",
            "Epoch 50/50\n",
            "29/29 [==============================] - 50s 2s/step - loss: 0.5470 - accuracy: 0.7884 - val_loss: 0.5846 - val_accuracy: 0.7991 - lr: 1.0000e-04\n",
            "\n",
            "Required time:  0:53:34.196720\n",
            "\n"
          ]
        }
      ]
    },
    {
      "cell_type": "code",
      "source": [
        "def plot_performance(model_name, accuracy, val_accuracy, loss, val_loss):\n",
        "  plt.figure(figsize=(10,5))\n",
        "  plt.subplot(1,2,1)\n",
        "  plt.plot(loss)\n",
        "  plt.plot(val_loss)\n",
        "  plt.title('{} : Loss'.format(model_name), fontsize=12, fontweight='bold')\n",
        "  plt.ylabel('Loss')\n",
        "  plt.xlabel('Epoch')\n",
        "  plt.legend(['train', 'test'], loc='upper right')\n",
        "\n",
        "  plt.subplot(1,2,2)\n",
        "  plt.plot(accuracy)\n",
        "  plt.plot(val_accuracy)\n",
        "  plt.title('{} : Accuracy'.format(model_name), fontsize=12, fontweight='bold')\n",
        "  plt.ylabel('Accuracy')\n",
        "  plt.xlabel('Epoch')\n",
        "  plt.legend(['train', 'test'], loc='upper right')"
      ],
      "metadata": {
        "id": "iMCy1E2uBuAg"
      },
      "execution_count": 20,
      "outputs": []
    },
    {
      "cell_type": "code",
      "source": [
        "plot_performance(model_name='CNN',\n",
        "                  accuracy=history.history['accuracy'],\n",
        "                 val_accuracy=history.history['val_accuracy'],\n",
        "                 loss=history.history['loss'],\n",
        "                 val_loss=history.history['val_loss'])"
      ],
      "metadata": {
        "colab": {
          "base_uri": "https://localhost:8080/",
          "height": 487
        },
        "id": "V0cM83MiCgPM",
        "outputId": "fa49c3f6-6f92-43ca-874a-e8a4c2da665b"
      },
      "execution_count": 21,
      "outputs": [
        {
          "output_type": "display_data",
          "data": {
            "text/plain": [
              "<Figure size 1000x500 with 2 Axes>"
            ],
            "image/png": "[encoded data removed]"
          },
          "metadata": {}
        }
      ]
    },
    {
      "cell_type": "code",
      "source": [
        "test_steps = test_generator.samples // BATCH_SIZE\n",
        "\n",
        "test_loss, test_acc = model.evaluate(test_generator, steps=test_steps)\n",
        "print('\\naccuracy:', test_acc, 'loss: ',test_loss)"
      ],
      "metadata": {
        "colab": {
          "base_uri": "https://localhost:8080/"
        },
        "id": "1gHlxHICCjs7",
        "outputId": "f45fab2c-e1bf-4475-cd92-094cc5b507b6"
      },
      "execution_count": 22,
      "outputs": [
        {
          "output_type": "stream",
          "name": "stdout",
          "text": [
            "7/7 [==============================] - 2s 221ms/step - loss: 0.5846 - accuracy: 0.7991\n",
            "\n",
            "accuracy: 0.7991071343421936 loss:  0.58461993932724\n"
          ]
        }
      ]
    },
    {
      "cell_type": "code",
      "source": [
        "predict = model.predict(test_generator, steps=test_steps)\n",
        "y_hat = np.argmax(predict, axis=1)\n",
        "y_hat[:20]"
      ],
      "metadata": {
        "colab": {
          "base_uri": "https://localhost:8080/"
        },
        "id": "e-2F-dRNClvD",
        "outputId": "1f83039d-a321-49f7-8af2-0f62aff09820"
      },
      "execution_count": 23,
      "outputs": [
        {
          "output_type": "stream",
          "name": "stdout",
          "text": [
            "7/7 [==============================] - 2s 221ms/step\n"
          ]
        },
        {
          "output_type": "execute_result",
          "data": {
            "text/plain": [
              "array([2, 4, 4, 0, 3, 1, 2, 3, 4, 4, 3, 4, 2, 1, 4, 0, 3, 4, 3, 4])"
            ]
          },
          "metadata": {},
          "execution_count": 23
        }
      ]
    },
    {
      "cell_type": "code",
      "source": [
        "test_labels_df = pd.DataFrame()\n",
        "test_labels_df[['class']] = test_data[['class']]\n",
        "\n",
        "change = {\n",
        "'0' : 0,\n",
        "'1' : 1,\n",
        "'2' : 2,\n",
        "'3' : 3,\n",
        "'4' : 4\n",
        "}\n",
        "\n",
        "test_labels_df['class'] = test_labels_df['class'].map(change)\n",
        "test_labels_df = test_labels_df[ : test_steps*BATCH_SIZE]\n",
        "\n",
        "\n",
        "y_test = np.array(test_labels_df['class'])\n",
        "y_test[:20]"
      ],
      "metadata": {
        "colab": {
          "base_uri": "https://localhost:8080/"
        },
        "id": "qU6sh2R7CnfG",
        "outputId": "8a4d2c9e-6010-4021-9413-56c42baf867f"
      },
      "execution_count": 24,
      "outputs": [
        {
          "output_type": "execute_result",
          "data": {
            "text/plain": [
              "array([2, 3, 4, 0, 0, 1, 4, 3, 1, 3, 3, 4, 2, 1, 2, 0, 3, 4, 3, 3])"
            ]
          },
          "metadata": {},
          "execution_count": 24
        }
      ]
    },
    {
      "cell_type": "code",
      "source": [
        "print(classification_report(y_test, y_hat), '\\n')\n",
        "cm = confusion_matrix(y_test, y_hat)\n",
        "sns.heatmap(cm, annot=True, cmap=\"Blues\", fmt='.0f', cbar=False)"
      ],
      "metadata": {
        "colab": {
          "base_uri": "https://localhost:8080/",
          "height": 673
        },
        "id": "qNDyqYkUCxC1",
        "outputId": "3de6535b-5fa9-420b-fdf0-e05938fb5252"
      },
      "execution_count": 25,
      "outputs": [
        {
          "output_type": "stream",
          "name": "stdout",
          "text": [
            "              precision    recall  f1-score   support\n",
            "\n",
            "           0       0.93      0.88      0.91        76\n",
            "           1       0.80      0.72      0.76        95\n",
            "           2       0.73      0.76      0.75        79\n",
            "           3       0.88      0.92      0.90       110\n",
            "           4       0.66      0.70      0.68        88\n",
            "\n",
            "    accuracy                           0.80       448\n",
            "   macro avg       0.80      0.80      0.80       448\n",
            "weighted avg       0.80      0.80      0.80       448\n",
            " \n",
            "\n"
          ]
        },
        {
          "output_type": "execute_result",
          "data": {
            "text/plain": [
              "<Axes: >"
            ]
          },
          "metadata": {},
          "execution_count": 25
        },
        {
          "output_type": "display_data",
          "data": {
            "text/plain": [
              "<Figure size 640x480 with 1 Axes>"
            ],
            "image/png": "[encoded data removed]"
          },
          "metadata": {}
        }
      ]
    }
  ]
}
